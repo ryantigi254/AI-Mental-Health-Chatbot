{
 "cells": [
  {
   "cell_type": "code",
   "execution_count": 1,
   "metadata": {},
   "outputs": [
    {
     "name": "stdout",
     "output_type": "stream",
     "text": [
      "Requirement already satisfied: python-docx in /opt/homebrew/Caskroom/miniforge/base/lib/python3.12/site-packages (1.1.2)\n",
      "Requirement already satisfied: PyPDF2 in /opt/homebrew/Caskroom/miniforge/base/lib/python3.12/site-packages (3.0.1)\n",
      "Requirement already satisfied: lxml>=3.1.0 in /opt/homebrew/Caskroom/miniforge/base/lib/python3.12/site-packages (from python-docx) (5.3.0)\n",
      "Requirement already satisfied: typing-extensions>=4.9.0 in /opt/homebrew/Caskroom/miniforge/base/lib/python3.12/site-packages (from python-docx) (4.12.2)\n",
      "Note: you may need to restart the kernel to use updated packages.\n"
     ]
    }
   ],
   "source": [
    "%pip install python-docx PyPDF2"
   ]
  },
  {
   "cell_type": "code",
   "execution_count": 2,
   "metadata": {},
   "outputs": [
    {
     "name": "stdout",
     "output_type": "stream",
     "text": [
<<<<<<< HEAD
      "Created combined file at: /Users/ryangichuru/Documents/SSD-K/Uni/2nd year/2nd Semester/AI Group Project/Research/Open AI Research/combined.txt\n",
      "Created combined file at: /Users/ryangichuru/Documents/SSD-K/Uni/2nd year/2nd Semester/AI Group Project/Research/Google Research/combined.txt\n",
      "Error processing /Users/ryangichuru/Documents/SSD-K/Uni/2nd year/2nd Semester/AI Group Project/Research/NotebookLM/Podcast 3/~$ntal Health Chatbot 3.docx: Package not found at '/Users/ryangichuru/Documents/SSD-K/Uni/2nd year/2nd Semester/AI Group Project/Research/NotebookLM/Podcast 3/~$ntal Health Chatbot 3.docx'\n",
      "Created combined file at: /Users/ryangichuru/Documents/SSD-K/Uni/2nd year/2nd Semester/AI Group Project/Research/NotebookLM/Podcast 3/combined.txt\n",
      "Created combined file at: /Users/ryangichuru/Documents/SSD-K/Uni/2nd year/2nd Semester/AI Group Project/Research/NotebookLM/Podcast 4/combined.txt\n",
      "Created combined file at: /Users/ryangichuru/Documents/SSD-K/Uni/2nd year/2nd Semester/AI Group Project/Research/NotebookLM/podcast 5/combined.txt\n",
      "Created combined file at: /Users/ryangichuru/Documents/SSD-K/Uni/2nd year/2nd Semester/AI Group Project/Research/NotebookLM/Podcast 2/combined.txt\n",
      "Created combined file at: /Users/ryangichuru/Documents/SSD-K/Uni/2nd year/2nd Semester/AI Group Project/Research/NotebookLM/Podcast 1/combined.txt\n"
=======
      "Created combined file at: /Users/ryangichuru/Documents/SSD-K/Uni/2nd year/2nd Semester/AI Group Project/Research/combined.txt\n",
      "Created combined file at: /Users/ryangichuru/Documents/SSD-K/Uni/2nd year/2nd Semester/AI Group Project/Research/STORM Research/Storm Research 2/combined.txt\n",
      "Created combined file at: /Users/ryangichuru/Documents/SSD-K/Uni/2nd year/2nd Semester/AI Group Project/Research/STORM Research/Storm Research /combined.txt\n",
      "Created combined file at: /Users/ryangichuru/Documents/SSD-K/Uni/2nd year/2nd Semester/AI Group Project/Research/Open AI Research/combined.txt\n"
     ]
    },
    {
     "name": "stderr",
     "output_type": "stream",
     "text": [
      "Illegal character in Name Object (b'/GFEDCB+\\x14\\xd5')\n",
      "Illegal character in Name Object (b'/GFEDCB+\\x14\\xd5')\n",
      "Multiple definitions in dictionary at byte 0x31db5 for key /Rotate\n",
      "Illegal character in Name Object (b'/GFEDCB+\\x14\\xd5')\n",
      "Illegal character in Name Object (b'/GFEDCB+\\x14\\xd5')\n",
      "Illegal character in Name Object (b'/GFEDCB+\\x14\\xd5')\n",
      "Illegal character in Name Object (b'/GFEDCB+\\x14\\xd5')\n"
     ]
    },
    {
     "name": "stdout",
     "output_type": "stream",
     "text": [
      "Created combined file at: /Users/ryangichuru/Documents/SSD-K/Uni/2nd year/2nd Semester/AI Group Project/Research/Articles/Articles 5/combined.txt\n"
     ]
    },
    {
     "name": "stderr",
     "output_type": "stream",
     "text": [
      "Illegal character in Name Object (b'/GFEDCB+\\x14\\xd5')\n",
      "Illegal character in Name Object (b'/GFEDCB+\\x14\\xd5')\n",
      "Illegal character in Name Object (b'/GFEDCB+\\x14\\xd5')\n",
      "Illegal character in Name Object (b'/GFEDCB+\\x14\\xd5')\n",
      "Illegal character in Name Object (b'/GFEDCB+\\x14\\xd5')\n",
      "Illegal character in Name Object (b'/GFEDCB+\\x14\\xd5')\n"
     ]
    },
    {
     "name": "stdout",
     "output_type": "stream",
     "text": [
      "Created combined file at: /Users/ryangichuru/Documents/SSD-K/Uni/2nd year/2nd Semester/AI Group Project/Research/Articles/Articles 2/combined.txt\n",
      "Created combined file at: /Users/ryangichuru/Documents/SSD-K/Uni/2nd year/2nd Semester/AI Group Project/Research/Articles/Articles 3/combined.txt\n",
      "Created combined file at: /Users/ryangichuru/Documents/SSD-K/Uni/2nd year/2nd Semester/AI Group Project/Research/Articles/Articles 4/combined.txt\n",
      "Created combined file at: /Users/ryangichuru/Documents/SSD-K/Uni/2nd year/2nd Semester/AI Group Project/Research/Articles/Articles 1/combined.txt\n",
      "Created combined file at: /Users/ryangichuru/Documents/SSD-K/Uni/2nd year/2nd Semester/AI Group Project/Research/Google Research/combined.txt\n",
      "Error processing /Users/ryangichuru/Documents/SSD-K/Uni/2nd year/2nd Semester/AI Group Project/Research/Meetings/Podcast 3/~$ntal Health Chatbot 3.docx: Package not found at '/Users/ryangichuru/Documents/SSD-K/Uni/2nd year/2nd Semester/AI Group Project/Research/Meetings/Podcast 3/~$ntal Health Chatbot 3.docx'\n",
      "Created combined file at: /Users/ryangichuru/Documents/SSD-K/Uni/2nd year/2nd Semester/AI Group Project/Research/Meetings/Podcast 3/combined.txt\n",
      "Created combined file at: /Users/ryangichuru/Documents/SSD-K/Uni/2nd year/2nd Semester/AI Group Project/Research/Meetings/Podcast 4/combined.txt\n",
      "Created combined file at: /Users/ryangichuru/Documents/SSD-K/Uni/2nd year/2nd Semester/AI Group Project/Research/Meetings/podcast 5/combined.txt\n",
      "Created combined file at: /Users/ryangichuru/Documents/SSD-K/Uni/2nd year/2nd Semester/AI Group Project/Research/Meetings/Podcast 2/combined.txt\n",
      "Created combined file at: /Users/ryangichuru/Documents/SSD-K/Uni/2nd year/2nd Semester/AI Group Project/Research/Meetings/Podcast 1/combined.txt\n"
>>>>>>> 800cefc0 (Initial commit- Research was already conducted for more info refer to the research structure file)
     ]
    }
   ],
   "source": [
    "import os\n",
    "from pathlib import Path\n",
    "\n",
    "# Define the root directory and excluded subfolders\n",
    "root_dir = \"/Users/ryangichuru/Documents/SSD-K/Uni/2nd year/2nd Semester/AI Group Project/Research\"\n",
    "excluded_folders = [\n",
    "    \"/Users/ryangichuru/Documents/SSD-K/Uni/2nd year/2nd Semester/AI Group Project/Research/Articles\",\n",
    "    \"/Users/ryangichuru/Documents/SSD-K/Uni/2nd year/2nd Semester/AI Group Project/Research/Misc\"\n",
    "]\n",
    "\n",
    "def combine_files_in_folder(folder_path):\n",
    "    combined_content = \"\"\n",
    "    for file_name in os.listdir(folder_path):\n",
    "        file_path = os.path.join(folder_path, file_name)\n",
    "        if os.path.isfile(file_path) and file_name.lower().endswith(('.txt', '.docx', '.pdf')):\n",
    "            try:\n",
    "                if file_name.endswith('.txt'):\n",
    "                    with open(file_path, 'r', encoding='utf-8', errors='ignore') as f:\n",
    "                        combined_content += f.read() + \"\\n\\n\"\n",
    "                elif file_name.endswith('.docx'):\n",
    "                    from docx import Document\n",
    "                    doc = Document(file_path)\n",
    "                    combined_content += \"\\n\".join([para.text for para in doc.paragraphs]) + \"\\n\\n\"\n",
    "                elif file_name.endswith('.pdf'):\n",
    "                    from PyPDF2 import PdfReader\n",
    "                    try:\n",
    "                        reader = PdfReader(file_path)\n",
    "                        for page in reader.pages:\n",
    "                            try:\n",
    "                                text = page.extract_text()\n",
    "                                if text:\n",
    "                                    combined_content += text + \"\\n\\n\"\n",
    "                            except Exception as e:\n",
    "                                print(f\"Error extracting text from page in {file_path}: {str(e)}\")\n",
    "                                continue\n",
    "                    except Exception as e:\n",
    "                        print(f\"Error reading PDF {file_path}: {str(e)}\")\n",
    "                        continue\n",
    "            except Exception as e:\n",
    "                print(f\"Error processing {file_path}: {str(e)}\")\n",
    "                continue\n",
    "    \n",
    "    if combined_content:\n",
    "        output_path = os.path.join(folder_path, \"combined.txt\")\n",
    "        with open(output_path, 'w', encoding='utf-8') as f:\n",
    "            f.write(combined_content)\n",
    "        print(f\"Created combined file at: {output_path}\")\n",
    "\n",
    "def process_directory(directory):\n",
    "    for root, dirs, files in os.walk(directory):\n",
    "        if root in excluded_folders:\n",
    "            continue\n",
    "            \n",
    "        # Check if there are multiple files or subfolders\n",
    "        if len(files) > 1 or len(dirs) > 0:\n",
    "            combine_files_in_folder(root)\n",
    "\n",
    "if __name__ == \"__main__\":\n",
    "    process_directory(root_dir)"
   ]
  },
  {
   "cell_type": "code",
   "execution_count": null,
   "metadata": {},
   "outputs": [],
   "source": []
  },
  {
   "cell_type": "code",
   "execution_count": null,
   "metadata": {},
   "outputs": [],
   "source": []
  }
 ],
 "metadata": {
  "kernelspec": {
   "display_name": "base",
   "language": "python",
   "name": "python3"
  },
  "language_info": {
   "codemirror_mode": {
    "name": "ipython",
    "version": 3
   },
   "file_extension": ".py",
   "mimetype": "text/x-python",
   "name": "python",
   "nbconvert_exporter": "python",
   "pygments_lexer": "ipython3",
   "version": "3.12.7"
  }
 },
 "nbformat": 4,
 "nbformat_minor": 2
}
